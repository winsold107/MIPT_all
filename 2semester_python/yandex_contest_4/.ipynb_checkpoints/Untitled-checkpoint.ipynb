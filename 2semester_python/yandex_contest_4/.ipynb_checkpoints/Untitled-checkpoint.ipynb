{
 "cells": [
  {
   "cell_type": "code",
   "execution_count": 15,
   "metadata": {},
   "outputs": [],
   "source": [
    "prefix = 'heroes'\n",
    "sample_paths = {i:prefix+'/sample'+str(i)+'.txt' for i in range(1,6)}\n",
    "sample_answers = ['Archibald', 'unknown', 'Ronald', 'Archibald', 'Ronald']"
   ]
  },
  {
   "cell_type": "code",
   "execution_count": 16,
   "metadata": {},
   "outputs": [
    {
     "data": {
      "text/plain": [
       "{1: 'heroes/sample1.txt',\n",
       " 2: 'heroes/sample2.txt',\n",
       " 3: 'heroes/sample3.txt',\n",
       " 4: 'heroes/sample4.txt',\n",
       " 5: 'heroes/sample5.txt'}"
      ]
     },
     "execution_count": 16,
     "metadata": {},
     "output_type": "execute_result"
    }
   ],
   "source": [
    "sample_paths"
   ]
  },
  {
   "cell_type": "code",
   "execution_count": 17,
   "metadata": {},
   "outputs": [
    {
     "data": {
      "text/plain": [
       "['Archibald', 'unknown', 'Ronald', 'Archibald', 'Ronald']"
      ]
     },
     "execution_count": 17,
     "metadata": {},
     "output_type": "execute_result"
    }
   ],
   "source": [
    "sample_answers"
   ]
  },
  {
   "cell_type": "raw",
   "metadata": {},
   "source": [
    "max_value         | Sorceress | Knight  | Barbarian | Warlock\n",
    "----------------------------------------------------------\n",
    "max_health        | 50        | 100     | 120       | 70\n",
    "----------------------------------------------------------\n",
    "max_defence_power | 42        | 170     | 150       | 50\n",
    "----------------------------------------------------------\n",
    "max_attack_power  | 90        | 150     | 180       | 100\n",
    "----------------------------------------------------------\n",
    "max_mana          | 200       | -       | -         | 180\n",
    "----------------------------------------------------------"
   ]
  },
  {
   "cell_type": "code",
   "execution_count": 45,
   "metadata": {},
   "outputs": [],
   "source": [
    "MAX_VALUES = {\n",
    "\t\"health\": {\n",
    "\t\t\"Sorceress\": 50,\n",
    "\t\t\"Knight\": 100,\n",
    "\t\t\"Barbarian\": 120,\n",
    "\t\t\"Warlock\": 70\n",
    "\t},\n",
    "\t\"defence\": {\n",
    "\t\t\"Sorceress\": 42,\n",
    "\t\t\"Knight\": 170,\n",
    "\t\t\"Barbarian\": 150,\n",
    "\t\t\"Warlock\": 50\n",
    "\t},\n",
    "\t\"attack\": {\n",
    "\t\t\"Sorceress\": 90,\n",
    "\t\t\"Knight\": 150,\n",
    "\t\t\"Barbarian\": 180,\n",
    "\t\t\"Warlock\": 100\n",
    "\t},\n",
    "\t\"mana\": {\n",
    "\t\t\"Sorceress\": 180,\n",
    "\t\t\"Knight\": 0,\n",
    "\t\t\"Barbarian\": 0,\n",
    "\t\t\"Warlock\": 200\n",
    "\t}\n",
    "}"
   ]
  },
  {
   "cell_type": "code",
   "execution_count": 18,
   "metadata": {},
   "outputs": [],
   "source": [
    "import json"
   ]
  },
  {
   "cell_type": "code",
   "execution_count": 40,
   "metadata": {},
   "outputs": [
    {
     "data": {
      "text/plain": [
       "dict_keys(['armies', 'battle_steps'])"
      ]
     },
     "execution_count": 40,
     "metadata": {},
     "output_type": "execute_result"
    }
   ],
   "source": [
    "json_data = json.loads(open(sample_paths[5], mode='r').read())\n",
    "json_data.keys()"
   ]
  },
  {
   "cell_type": "code",
   "execution_count": 21,
   "metadata": {},
   "outputs": [
    {
     "data": {
      "text/plain": [
       "dict"
      ]
     },
     "execution_count": 21,
     "metadata": {},
     "output_type": "execute_result"
    }
   ],
   "source": [
    "type(json_data)"
   ]
  },
  {
   "cell_type": "code",
   "execution_count": 57,
   "metadata": {},
   "outputs": [
    {
     "data": {
      "text/plain": [
       "{'attack': 47,\n",
       " 'defence': 15,\n",
       " 'experience': 4,\n",
       " 'health': 29,\n",
       " 'lord': 'Ronald',\n",
       " 'mana': 161,\n",
       " 'race': 'Sorceress'}"
      ]
     },
     "execution_count": 57,
     "metadata": {},
     "output_type": "execute_result"
    }
   ],
   "source": [
    "armies = json_data['armies']\n",
    "armies['1']"
   ]
  },
  {
   "cell_type": "code",
   "execution_count": 26,
   "metadata": {},
   "outputs": [
    {
     "data": {
      "text/plain": [
       "[{'action': 'attack', 'id_from': '2', 'id_to': '100', 'power': 59},\n",
       " {'action': 'cast_health_spell',\n",
       "  'id_from': '101',\n",
       "  'id_to': '102',\n",
       "  'power': 20},\n",
       " {'action': 'attack', 'id_from': '102', 'id_to': '3', 'power': 48},\n",
       " {'action': 'attack', 'id_from': '4', 'id_to': '102', 'power': 54},\n",
       " {'action': 'cast_health_spell', 'id_from': '0', 'id_to': '3', 'power': 33},\n",
       " {'action': 'cast_damage_spell', 'id_from': '101', 'id_to': '0', 'power': 29},\n",
       " {'action': 'cast_health_spell', 'id_from': '0', 'id_to': '4', 'power': 24},\n",
       " {'action': 'attack', 'id_from': '3', 'id_to': '102', 'power': 22}]"
      ]
     },
     "execution_count": 26,
     "metadata": {},
     "output_type": "execute_result"
    }
   ],
   "source": [
    "steps = json_data['battle_steps']\n",
    "steps"
   ]
  },
  {
   "cell_type": "code",
   "execution_count": 58,
   "metadata": {},
   "outputs": [],
   "source": [
    "def update_attrs(army, *attrs):\n",
    "    for attr in attrs:\n",
    "        max_value = MAX_VALUES[attr][army['race']]\n",
    "        army[attr] = min(max_value, army[attr])"
   ]
  },
  {
   "cell_type": "code",
   "execution_count": 59,
   "metadata": {},
   "outputs": [],
   "source": [
    "def validate_data():\n",
    "    for _, army in armies:\n",
    "        if 'mana' not in army:\n",
    "            army['mana'] = 0\n",
    "        update_attrs(army, 'health', 'attack', 'defence', 'mana')"
   ]
  },
  {
   "cell_type": "code",
   "execution_count": 46,
   "metadata": {},
   "outputs": [],
   "source": [
    "def is_dead(army):\n",
    "    return army['health'] <= 0"
   ]
  },
  {
   "cell_type": "code",
   "execution_count": 47,
   "metadata": {},
   "outputs": [],
   "source": [
    "def attack_to(to_defence, to_health, power):\n",
    "    if to_defence >= power:\n",
    "        return to_defence-power, to_health\n",
    "    return 0, to_health - (power-to_defence)"
   ]
  },
  {
   "cell_type": "code",
   "execution_count": 48,
   "metadata": {},
   "outputs": [],
   "source": [
    "def proceed_attack(army_from, army_to, power, attack_type):    \n",
    "    \n",
    "    army_from[attack_type] -= power\n",
    "    army_to['defence'], army_to['health'] = attack_to(army_to['defence'], army_to['health'], power)\n",
    "    \n",
    "    if is_dead(army_to): \n",
    "        army_to['experience'] += 5\n",
    "    else: \n",
    "        army_to['experience'] += 1\n",
    "        \n",
    "    army_from['experience'] += 1"
   ]
  },
  {
   "cell_type": "code",
   "execution_count": 49,
   "metadata": {},
   "outputs": [],
   "source": [
    "def proceed_health_spell(army_from, army_to, power):\n",
    "    \n",
    "    army_from['mana'] -= power\n",
    "    army_to['health'] = min(army_to['health'] + power, MAX_VALUES['health'][army_from['race']])"
   ]
  },
  {
   "cell_type": "code",
   "execution_count": 53,
   "metadata": {},
   "outputs": [],
   "source": [
    "for step in steps:\n",
    "    action = step['action']\n",
    "    army_from, army_to, power = armies[step['id_from']], armies[step['id_to']], step['power']\n",
    "                                       \n",
    "    if is_dead(army_from) or is_dead(army_to):\n",
    "        continue\n",
    "                                       \n",
    "    \n",
    "    if action == 'attack':\n",
    "        proceed_attack(army_from, army_to, power, 'attack')\n",
    "    elif action == 'cast_health_spell':\n",
    "        proceed_health_spell(army_from, army_to, power)\n",
    "    elif action == 'cast_damage_spell':\n",
    "        proceed_attack(army_from, army_to, power, 'mana')\n",
    "    else:\n",
    "        assert False"
   ]
  },
  {
   "cell_type": "code",
   "execution_count": null,
   "metadata": {},
   "outputs": [],
   "source": [
    "def army_score(army):\n",
    "    if is_dead(army):\n",
    "        return 0\n",
    "    return army['experience'] + army['defence']*2 + army['attack']*3 + army['mana']*10"
   ]
  },
  {
   "cell_type": "code",
   "execution_count": 54,
   "metadata": {},
   "outputs": [],
   "source": [
    "def who_wins():\n",
    "    score = { 'Archibald' : 0, 'Ronald': 0}\n",
    "    for _, army in armies:\n",
    "        score[army['lord']] += army_score(army)\n",
    "    \n",
    "    if score['Archibald'] < score['Ronald']:\n",
    "        return 'Ronald'\n",
    "    if score['Archibald'] == score['Ronald']:\n",
    "        return 'unknown'\n",
    "    return 'Archibald'"
   ]
  },
  {
   "cell_type": "code",
   "execution_count": null,
   "metadata": {},
   "outputs": [],
   "source": []
  }
 ],
 "metadata": {
  "kernelspec": {
   "display_name": "Python 3",
   "language": "python",
   "name": "python3"
  },
  "language_info": {
   "codemirror_mode": {
    "name": "ipython",
    "version": 3
   },
   "file_extension": ".py",
   "mimetype": "text/x-python",
   "name": "python",
   "nbconvert_exporter": "python",
   "pygments_lexer": "ipython3",
   "version": "3.6.4"
  }
 },
 "nbformat": 4,
 "nbformat_minor": 2
}
