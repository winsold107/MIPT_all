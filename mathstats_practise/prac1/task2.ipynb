{
 "cells": [
  {
   "cell_type": "markdown",
   "metadata": {},
   "source": [
    "# Свойства оценок"
   ]
  },
  {
   "cell_type": "markdown",
   "metadata": {},
   "source": [
    "2 задание (к теоретической задаче 5):"
   ]
  },
  {
   "cell_type": "markdown",
   "metadata": {},
   "source": [
    "Сгенерируйте выборку $X_1$...$X_n$ из экспоненциального распределения с параметром θ = 1 для N = $10^{4}$"
   ]
  },
  {
   "cell_type": "markdown",
   "metadata": {},
   "source": [
    "Для всех n<=N посчитать оценку (k!/(X^k)average)^1/k для параметра θ"
   ]
  },
  {
   "cell_type": "markdown",
   "metadata": {},
   "source": [
    "Провести исследование и выяснить, при каком k оценка ведет себя лучше всего"
   ]
  },
  {
   "cell_type": "code",
   "execution_count": 23,
   "metadata": {},
   "outputs": [
    {
     "name": "stdout",
     "output_type": "stream",
     "text": [
      "Populating the interactive namespace from numpy and matplotlib\n"
     ]
    }
   ],
   "source": [
    "#импортируем необходимые библиотеки\n",
    "import numpy as np\n",
    "import scipy.stats as sps\n",
    "import matplotlib.pyplot as plt\n",
    "%matplotlib inline\n",
    "%pylab inline"
   ]
  },
  {
   "cell_type": "code",
   "execution_count": null,
   "metadata": {},
   "outputs": [],
   "source": [
    "#напишем функцию для вывода статистики\n",
    "def Statistics (N, theta, k):\n",
    "    #генерируем выборку из экспоненциального распределения\n",
    "    X = sps.expon.rvs(size = N, loc = 0, scale = 1/theta)\n",
    "    valuation = []\n",
    "    k_sum = 0.0\n",
    "    \n",
    "    #заполняем массив значениями отклонений\n",
    "    for i in range(0, N): \n",
    "        k_sum += X[i]**k\n",
    "        k_average = k_sum / (i+1)\n",
    "        valuation.append(abs((math.factorial(k) / (k_average))**(1/k) - theta))\n",
    "        \n",
    "    colors = ['r-', 'b-', 'y-', 'g-', 'r--', 'b--', 'y--', 'g--', 'r-.', 'b-.', 'y-.', 'g-.']\n",
    "    plt.plot(np.arange(1, N+1), valuation, colors[k%12 - 1], linewidth = 3, label='k = ' + str(k));"
   ]
  },
  {
   "cell_type": "code",
   "execution_count": null,
   "metadata": {},
   "outputs": [],
   "source": [
    "N = 10000;\n",
    "theta = 1;\n",
    "plt.figure(figsize=(25,20))\n",
    "plt.title('Valuation depends on given k', fontsize = 50);\n",
    "plt.grid()\n",
    "\n",
    "plt.ylabel('$|\\\\theta - \\\\theta^*(n)|$', fontsize = 30);\n",
    "plt.xlabel('n', fontsize = 30)\n",
    "\n",
    "plt.ylim(0.0, 0.3);\n",
    "plt.xlim(1000, 10000);\n",
    "\n",
    "for k in range(1, 13) :\n",
    "    Statistics(N, theta, k)\n",
    "    \n",
    "plt.legend(loc='upper right', fontsize = 30)\n",
    "plt.show()"
   ]
  },
  {
   "cell_type": "markdown",
   "metadata": {},
   "source": [
    "Анализируя полученный результат, становится понятно, что при меньших k отклонение оценки параметра от его реального значения меньше, а значит меньшие k дают лучшую оценку"
   ]
  },
  {
   "cell_type": "code",
   "execution_count": null,
   "metadata": {},
   "outputs": [],
   "source": []
  }
 ],
 "metadata": {
  "kernelspec": {
   "display_name": "Python 3",
   "language": "python",
   "name": "python3"
  },
  "language_info": {
   "codemirror_mode": {
    "name": "ipython",
    "version": 3
   },
   "file_extension": ".py",
   "mimetype": "text/x-python",
   "name": "python",
   "nbconvert_exporter": "python",
   "pygments_lexer": "ipython3",
   "version": "3.7.3"
  }
 },
 "nbformat": 4,
 "nbformat_minor": 2
}
